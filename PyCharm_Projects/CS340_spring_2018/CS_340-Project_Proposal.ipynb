{
 "cells": [
  {
   "cell_type": "markdown",
   "metadata": {},
   "source": [
    "<h1><center>CS 340 Project Proposal</center></h1>"
   ]
  },
  {
   "cell_type": "markdown",
   "metadata": {},
   "source": [
    "<h1> Team members </h1>\n",
    "<h2> Ahsen Akpınar<br> Ece Uslu<br> Muhammed Can Özdemir<br> Nejat Günaydın</h2>"
   ]
  },
  {
   "cell_type": "markdown",
   "metadata": {},
   "source": [
    "### !!! These info in that file can change according the data that we will get, and we will get its properties around 30 March 2018."
   ]
  },
  {
   "cell_type": "markdown",
   "metadata": {},
   "source": [
    "# 1) Problem or Topic\n",
    "## Define a problem or topic you would like to study:\n",
    "### We will study for a recommendation algorithm for data on the Şehir University Library, especially for books."
   ]
  },
  {
   "cell_type": "markdown",
   "metadata": {},
   "source": [
    "# 2) Data\n",
    "### 2.1) What is your data about?\n",
    "#### Data is especially about document type, name, publishing information and subject terms that mentioned in that document. \n",
    "### 2.2) What does your data look like?\n",
    "#### Data is especially contains book data which includes:  Language, Authors, Publication Information, Publication Date, Publication Place, Publication Type, Document Type, Subject Terms.\n",
    "### 2.3) How will you clean your data?\n",
    "#### Data can be cleaned by using filtering functions such as filter in spark. We can also group documents by their subject terms to get a better result.\n",
    "### 2.4) What is good about this data?\n",
    "#### For example, “Subject Terms” give some of the topics that are mentioned in the selected book. We can also categorize documents by the languages they use.\n",
    "### 2.5) What might be missing or wrong in the data?\n",
    "#### “Description” or “Summary” is missing, but that may be useful to get better results by comparing these to recommend a document."
   ]
  },
  {
   "cell_type": "markdown",
   "metadata": {},
   "source": [
    "# 3) Questions\n",
    "### How will your code work?\n",
    "#### Our code will take some book's (or other documents) names as an input and search for them in our data, and take matched ones as input data to give a list of recommended books (or documents) as an output.\n",
    "### What will you do to reach on your goal, to make your recommendation algorithm?\n",
    "#### In order to make a recommendation, we will categorize and rank input data by Subject Terms, Languages and Authors of the given document; then show the documents who has the most common points.\n",
    "### What operations you will apply on your data?\n",
    "#### First, we will transform our data to a DataFrame form of Apache Spark, then we will filter data for documents who has similar names. We will take the result of this filtering to get each document's Subject Terms, Languages and Authors; and we will search for documents who has most of the features of all documents given as input data.\n",
    "### What kind of functions will you use in this project ?\n",
    "#### Most of the time, we think to use function of spark dataframe. For example; for dataframe df and parameter param, we will filter data with \"df.filter(param)\", group data with \"df.groupBy(colName)\" (colName is a column name), and so on. We may also use some clustering algorithms, that we learned at Programming Practice courses, to save results of search for each document in order to get a result from them.\n",
    "###\n",
    "####"
   ]
  },
  {
   "cell_type": "markdown",
   "metadata": {},
   "source": [
    "# 4) Applications & Conclusions\n",
    "### 4.1) What are the insights you want to get from your study?\n",
    "#### At the end of this study, we will have a better understanding about how to transform a data to a spark DataFrame and how how to filter and categorize it according to some parameters.\n",
    "### 4.2) Why do you think your findings will be useful?\n",
    "#### The Şehir University Library doesn't have a system to recommend books or other documents to each user. Maybe this project can help them to build some kind of a recommendation engine for students, and so on.\n",
    "### 4.3) What is your application about?\n",
    "#### making a prediction by using given document names to recommend any different documents in library.\n",
    "### 4.4) What do you think you might use to make this application?\n",
    "#### We want to use python 3 and Apache Spark (pyspark), to make this application."
   ]
  },
  {
   "cell_type": "code",
   "execution_count": null,
   "metadata": {},
   "outputs": [],
   "source": []
  }
 ],
 "metadata": {
  "kernelspec": {
   "display_name": "Python 3",
   "language": "python",
   "name": "python3"
  },
  "language_info": {
   "codemirror_mode": {
    "name": "ipython",
    "version": 3
   },
   "file_extension": ".py",
   "mimetype": "text/x-python",
   "name": "python",
   "nbconvert_exporter": "python",
   "pygments_lexer": "ipython3",
   "version": "3.6.4"
  }
 },
 "nbformat": 4,
 "nbformat_minor": 2
}
