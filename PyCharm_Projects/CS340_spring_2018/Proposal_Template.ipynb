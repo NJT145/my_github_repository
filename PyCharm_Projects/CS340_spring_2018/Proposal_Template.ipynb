{
 "cells": [
  {
   "cell_type": "markdown",
   "metadata": {},
   "source": [
    "<h1><center>CS 340 Project Proposal</center></h1>"
   ]
  },
  {
   "cell_type": "markdown",
   "metadata": {},
   "source": [
    "<h1> Team members </h1>\n",
    "<h2> Osman Python<br> Muhlis Jupyter<br> Mariam Spark</h2>"
   ]
  },
  {
   "cell_type": "markdown",
   "metadata": {},
   "source": [
    "# 1) Problem or Topic\n",
    "## Define a problem or topic you would like to study:\n",
    "### e.g. I wanna study House Prices!"
   ]
  },
  {
   "cell_type": "markdown",
   "metadata": {},
   "source": [
    "# 2) Data\n",
    "### 2.1) What is your data about?\n",
    "### 2.2) What does your data look like?\n",
    "### 2.3) How will you clean your data?\n",
    "### 2.4) What is good about this data?\n",
    "### 2.5) What might be missing or wrong in the data?\n",
    "### ***Look for data in data hubs like Kaggle > https://www.kaggle.com/datasets\n",
    "#### ***House Prices dataset sample > https://www.kaggle.com/new-york-city/nyc-property-sales/data"
   ]
  },
  {
   "cell_type": "markdown",
   "metadata": {},
   "source": [
    "# 3) Questions\n",
    "### 3.1) Write at least 5 sample questions about your data\n",
    "### 3.2) Write the ways you will try to answer those questions\n",
    "#### Examples...\n",
    "#### What operations you will apply on your data?\n",
    "#### What graphs will you draw for the data?\n",
    "### *** Check sample kernals from previous developers who studied the same data\n",
    "### *** House Prices kernel sample > https://www.kaggle.com/akosciansky/how-to-become-a-property-tycoon-in-new-york/notebook"
   ]
  },
  {
   "cell_type": "markdown",
   "metadata": {},
   "source": [
    "# 4) Applications & Conclusions\n",
    "### 4.1) What are the insights you want to get from your study?\n",
    "### 4.2) Why do you think your findings will be useful?\n",
    "### 4.3) What is your application about? e.g. predicting house prices\n",
    "### 4.4) What do you think you might use to make this application?"
   ]
  },
  {
   "cell_type": "code",
   "execution_count": null,
   "metadata": {},
   "outputs": [],
   "source": []
  }
 ],
 "metadata": {
  "kernelspec": {
   "display_name": "Python 3",
   "language": "python",
   "name": "python3"
  },
  "language_info": {
   "codemirror_mode": {
    "name": "ipython",
    "version": 3
   },
   "file_extension": ".py",
   "mimetype": "text/x-python",
   "name": "python",
   "nbconvert_exporter": "python",
   "pygments_lexer": "ipython3",
   "version": "3.6.3"
  }
 },
 "nbformat": 4,
 "nbformat_minor": 2
}
