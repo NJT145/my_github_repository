{
 "cells": [
  {
   "cell_type": "markdown",
   "metadata": {},
   "source": [
    "<h1><center>Spark Context and basic MapReduce operations</center></h1>"
   ]
  },
  {
   "cell_type": "markdown",
   "metadata": {},
   "source": [
    "## We have a 100x100 board.\n",
    "### We throw 3 stones a Million times.\n",
    "<img src=\"misc/board.png\" width=\"200\">\n",
    "## Week 3: Reading files with SparkContext and Intro to Lambda Expressions\n",
    "### Given the XY position of each stone in the board <br> can we calculate how many of them forms a valid triangle?"
   ]
  },
  {
   "cell_type": "code",
   "execution_count": 3,
   "metadata": {},
   "outputs": [],
   "source": [
    "from pyspark import SparkContext"
   ]
  },
  {
   "cell_type": "code",
   "execution_count": 4,
   "metadata": {},
   "outputs": [],
   "source": [
    "sc = SparkContext.getOrCreate()"
   ]
  },
  {
   "cell_type": "markdown",
   "metadata": {},
   "source": [
    "### we take string lines"
   ]
  },
  {
   "cell_type": "code",
   "execution_count": 43,
   "metadata": {},
   "outputs": [
    {
     "data": {
      "text/plain": [
       "['13 27, 68 55, 12 62',\n",
       " '64 96, 91 62, 43 51',\n",
       " '28 44, 93 59, 68 4',\n",
       " '60 8, 87 65, 93 98',\n",
       " '4 65, 2 77, 18 85']"
      ]
     },
     "execution_count": 43,
     "metadata": {},
     "output_type": "execute_result"
    }
   ],
   "source": [
    "triangles = sc.textFile(\"data/triangles.csv\")\n",
    "# triangles = sc.parallelize(triangles.take(10000))   # if you wish to take a smaller sample\n",
    "triangles.take(5)"
   ]
  },
  {
   "cell_type": "markdown",
   "metadata": {},
   "source": [
    "<h1><center>Lambda Expressions</center> <img src=\"misc/lambda.jpg\" width=\"400\" align=\"middle\"/></h1>"
   ]
  },
  {
   "cell_type": "code",
   "execution_count": 44,
   "metadata": {},
   "outputs": [],
   "source": [
    "distance = lambda p1, p2: ((p1[0]-p2[0])**2 + (p1[1]-p2[1])**2)**0.5\n",
    "def sure_distance(p1, p2):\n",
    "    x1, y1 = p1 # (13, 27)\n",
    "    x2, y2 = p2 # (68, 55)\n",
    "    dist = ((x2 - x1)**2 + (y2- y1)**2)**0.5\n",
    "    return dist"
   ]
  },
  {
   "cell_type": "code",
   "execution_count": 45,
   "metadata": {},
   "outputs": [
    {
     "data": {
      "text/plain": [
       "5.0"
      ]
     },
     "execution_count": 45,
     "metadata": {},
     "output_type": "execute_result"
    }
   ],
   "source": [
    "distance((4,0), (0,3))\n",
    "sure_distance((4,0), (0,3))"
   ]
  },
  {
   "cell_type": "code",
   "execution_count": 46,
   "metadata": {},
   "outputs": [],
   "source": [
    "l = [(1,'z'), (2,'a')]"
   ]
  },
  {
   "cell_type": "code",
   "execution_count": 47,
   "metadata": {},
   "outputs": [
    {
     "data": {
      "text/plain": [
       "[(1, 'z'), (2, 'a')]"
      ]
     },
     "execution_count": 47,
     "metadata": {},
     "output_type": "execute_result"
    }
   ],
   "source": [
    "sorted(l)"
   ]
  },
  {
   "cell_type": "code",
   "execution_count": 48,
   "metadata": {},
   "outputs": [
    {
     "data": {
      "text/plain": [
       "[(2, 'a'), (1, 'z')]"
      ]
     },
     "execution_count": 48,
     "metadata": {},
     "output_type": "execute_result"
    }
   ],
   "source": [
    "sorted(l, key=lambda x: x[1])"
   ]
  },
  {
   "cell_type": "markdown",
   "metadata": {},
   "source": [
    "### Let's deal with each line alone"
   ]
  },
  {
   "cell_type": "code",
   "execution_count": 49,
   "metadata": {},
   "outputs": [
    {
     "data": {
      "text/plain": [
       "'13 27, 68 55, 12 62'"
      ]
     },
     "execution_count": 49,
     "metadata": {},
     "output_type": "execute_result"
    }
   ],
   "source": [
    "sample_line = triangles.take(1)[0]\n",
    "sample_line"
   ]
  },
  {
   "cell_type": "markdown",
   "metadata": {},
   "source": [
    "### 1) split the string line by comma ,"
   ]
  },
  {
   "cell_type": "code",
   "execution_count": 50,
   "metadata": {},
   "outputs": [
    {
     "data": {
      "text/plain": [
       "['13 27', ' 68 55', ' 12 62']"
      ]
     },
     "execution_count": 50,
     "metadata": {},
     "output_type": "execute_result"
    }
   ],
   "source": [
    "split_comma = lambda line: line.split(',')\n",
    "splitted_sample = split_comma(sample_line)\n",
    "splitted_sample"
   ]
  },
  {
   "cell_type": "markdown",
   "metadata": {},
   "source": [
    "### 2.1) Convert a string point to a tuple of integer x-y position\n",
    "#### PS. Tuples are your friends"
   ]
  },
  {
   "cell_type": "code",
   "execution_count": 51,
   "metadata": {},
   "outputs": [
    {
     "data": {
      "text/plain": [
       "(13, 27)"
      ]
     },
     "execution_count": 51,
     "metadata": {},
     "output_type": "execute_result"
    }
   ],
   "source": [
    "point_str2tuple = lambda point_str: tuple([int(ps) for ps in point_str.split()]) # this is just a substep\n",
    "point_str2tuple(splitted_sample[0])"
   ]
  },
  {
   "cell_type": "markdown",
   "metadata": {},
   "source": [
    "### 2.2) Take every string point in the list and convert it to x-y integer position"
   ]
  },
  {
   "cell_type": "code",
   "execution_count": 52,
   "metadata": {},
   "outputs": [
    {
     "data": {
      "text/plain": [
       "((13, 27), (68, 55), (12, 62))"
      ]
     },
     "execution_count": 52,
     "metadata": {},
     "output_type": "execute_result"
    }
   ],
   "source": [
    "splitted2points = lambda splitted_line: tuple([point_str2tuple(i) for i in splitted_line])\n",
    "sample_points = splitted2points(splitted_sample)\n",
    "sample_points"
   ]
  },
  {
   "cell_type": "markdown",
   "metadata": {},
   "source": [
    "### 3) Validate a triangle"
   ]
  },
  {
   "cell_type": "code",
   "execution_count": 53,
   "metadata": {},
   "outputs": [],
   "source": [
    "def isvalid_triangle(p1, p2, p3):\n",
    "    l1 = distance(p1, p2)\n",
    "    l2 = distance(p2, p3)\n",
    "    l3 = distance(p3, p1)\n",
    "    return l1+l2>l3 and l1+l3>l2 and l2+l3 > l1"
   ]
  },
  {
   "cell_type": "code",
   "execution_count": 54,
   "metadata": {},
   "outputs": [
    {
     "data": {
      "text/plain": [
       "True"
      ]
     },
     "execution_count": 54,
     "metadata": {},
     "output_type": "execute_result"
    }
   ],
   "source": [
    "points_valid_triangle = lambda points: isvalid_triangle(*points)\n",
    "points_valid_triangle(sample_points)"
   ]
  },
  {
   "cell_type": "markdown",
   "metadata": {},
   "source": [
    "### 4) Combine all previous steps in one function"
   ]
  },
  {
   "cell_type": "code",
   "execution_count": 55,
   "metadata": {},
   "outputs": [
    {
     "data": {
      "text/plain": [
       "True"
      ]
     },
     "execution_count": 55,
     "metadata": {},
     "output_type": "execute_result"
    }
   ],
   "source": [
    "line2valid = lambda line: points_valid_triangle(\n",
    "    splitted2points(\n",
    "        split_comma(line)))\n",
    "line2valid(sample_line)"
   ]
  },
  {
   "cell_type": "markdown",
   "metadata": {},
   "source": [
    "## Week 4: Map, Reduce and Filtering operations"
   ]
  },
  {
   "cell_type": "markdown",
   "metadata": {},
   "source": [
    "<h1><center>Map/Reduce</center></h1>\n",
    "<img src=\"misc/mapreduce.jpeg\" width=\"1000\">"
   ]
  },
  {
   "cell_type": "code",
   "execution_count": 56,
   "metadata": {},
   "outputs": [
    {
     "data": {
      "text/plain": [
       "[True, True, True, True, True]"
      ]
     },
     "execution_count": 56,
     "metadata": {},
     "output_type": "execute_result"
    }
   ],
   "source": [
    "validated_triangles = triangles.map(line2valid)\n",
    "validated_triangles.take(5)"
   ]
  },
  {
   "cell_type": "code",
   "execution_count": 57,
   "metadata": {},
   "outputs": [
    {
     "data": {
      "text/plain": [
       "999"
      ]
     },
     "execution_count": 57,
     "metadata": {},
     "output_type": "execute_result"
    }
   ],
   "source": [
    "num_triangles = validated_triangles.reduce(lambda x,y: x+y)\n",
    "num_triangles"
   ]
  },
  {
   "cell_type": "markdown",
   "metadata": {},
   "source": [
    "![title](misc/oneline.jpg)"
   ]
  },
  {
   "cell_type": "code",
   "execution_count": 58,
   "metadata": {},
   "outputs": [
    {
     "data": {
      "text/plain": [
       "999"
      ]
     },
     "execution_count": 58,
     "metadata": {},
     "output_type": "execute_result"
    }
   ],
   "source": [
    "num_triangles_short = triangles.map(lambda line:line.split(','))\\\n",
    "                                .map(lambda splitted_line: tuple([\n",
    "                                    tuple([int(ps) for ps in point_str.split()])\n",
    "                                        for point_str in splitted_line]))\\\n",
    "                                .map(lambda points: isvalid_triangle(*points))\\\n",
    "                                .reduce(lambda x, y: x+y)\n",
    "num_triangles_short"
   ]
  },
  {
   "cell_type": "markdown",
   "metadata": {},
   "source": [
    "## Filter: Choose only valid triangles"
   ]
  },
  {
   "cell_type": "code",
   "execution_count": 59,
   "metadata": {},
   "outputs": [
    {
     "data": {
      "text/plain": [
       "999"
      ]
     },
     "execution_count": 59,
     "metadata": {},
     "output_type": "execute_result"
    }
   ],
   "source": [
    "valid_triangles = triangles.map(lambda line:line.split(','))\\\n",
    "                                .map(lambda splitted_line: tuple([\n",
    "                                    tuple([int(ps) for ps in point_str.split()])\n",
    "                                        for point_str in splitted_line]))\\\n",
    "                                .filter(lambda points: isvalid_triangle(*points))\n",
    "valid_triangles.count()"
   ]
  },
  {
   "cell_type": "markdown",
   "metadata": {},
   "source": [
    "## RDD as a Python dictionary?"
   ]
  },
  {
   "cell_type": "code",
   "execution_count": 60,
   "metadata": {},
   "outputs": [
    {
     "data": {
      "text/plain": [
       "[(-973281609, ((13, 27), (68, 55), (12, 62))),\n",
       " (-1943038625, ((64, 96), (91, 62), (43, 51))),\n",
       " (935403028, ((28, 44), (93, 59), (68, 4))),\n",
       " (555573573, ((60, 8), (87, 65), (93, 98))),\n",
       " (1402881299, ((4, 65), (2, 77), (18, 85)))]"
      ]
     },
     "execution_count": 60,
     "metadata": {},
     "output_type": "execute_result"
    }
   ],
   "source": [
    "triangles_id = valid_triangles.map(lambda x: (hash(tuple(x)), tuple(x)))\n",
    "triangles_id.take(5)"
   ]
  },
  {
   "cell_type": "code",
   "execution_count": 61,
   "metadata": {},
   "outputs": [
    {
     "data": {
      "text/plain": [
       "[(0, ((13, 27), (68, 55), (12, 62))),\n",
       " (4, ((64, 96), (91, 62), (43, 51))),\n",
       " (8, ((28, 44), (93, 59), (68, 4))),\n",
       " (12, ((60, 8), (87, 65), (93, 98))),\n",
       " (16, ((4, 65), (2, 77), (18, 85)))]"
      ]
     },
     "execution_count": 61,
     "metadata": {},
     "output_type": "execute_result"
    }
   ],
   "source": [
    "triangles_zip = valid_triangles.zipWithUniqueId()\\\n",
    "                                .map(lambda x: (x[1], x[0]))\n",
    "triangles_zip.take(5)"
   ]
  },
  {
   "cell_type": "markdown",
   "metadata": {},
   "source": [
    "### Let's record the circumference of each valid triangle"
   ]
  },
  {
   "cell_type": "code",
   "execution_count": 62,
   "metadata": {},
   "outputs": [],
   "source": [
    "def get_circumference(p1, p2, p3):  # if it is an attribute triangle.circumference, otherwise call it get_circumference(*triangle)\n",
    "    l1 = distance(p1, p2)\n",
    "    l2 = distance(p2, p3)\n",
    "    l3 = distance(p1, p3)\n",
    "    return l1 + l2 +l3"
   ]
  },
  {
   "cell_type": "code",
   "execution_count": 63,
   "metadata": {},
   "outputs": [
    {
     "data": {
      "text/plain": [
       "[(((13, 27), (68, 55), (12, 62)), 153.16718353495094),\n",
       " (((64, 96), (91, 62), (43, 51)), 142.3197117729059),\n",
       " (((28, 44), (93, 59), (68, 4)), 183.69209268352833),\n",
       " (((60, 8), (87, 65), (93, 98)), 192.4716796394055),\n",
       " (((4, 65), (2, 77), (18, 85)), 54.46718011206216)]"
      ]
     },
     "execution_count": 63,
     "metadata": {},
     "output_type": "execute_result"
    }
   ],
   "source": [
    "circumferences = valid_triangles.map(lambda points: (points, get_circumference(*points)))\n",
    "circumferences.take(5)"
   ]
  },
  {
   "cell_type": "markdown",
   "metadata": {},
   "source": [
    "## Sort triangles with their circumferences, top first"
   ]
  },
  {
   "cell_type": "code",
   "execution_count": 64,
   "metadata": {},
   "outputs": [
    {
     "data": {
      "text/plain": [
       "[(((1, 9), (17, 100), (90, 14)), 294.3413678734133),\n",
       " (((0, 54), (6, 1), (95, 98)), 289.67679380447237),\n",
       " (((96, 6), (92, 97), (7, 59)), 287.7810477570703),\n",
       " (((94, 95), (12, 13), (71, 1)), 272.9464151078346),\n",
       " (((3, 11), (91, 80), (77, 1)), 266.7292928636583)]"
      ]
     },
     "execution_count": 64,
     "metadata": {},
     "output_type": "execute_result"
    }
   ],
   "source": [
    "sorted_triangles_circum = circumferences.sortBy(lambda triangle_circum: triangle_circum[1], ascending=False)\n",
    "sorted_triangles_circum.take(5)"
   ]
  },
  {
   "cell_type": "markdown",
   "metadata": {},
   "source": [
    "<img src=\"misc/hash.png\" width=\"200\" align=\"left\">\n",
    "<h1>\"Hashing is your friend\"</h1>\n",
    "<h2><center>Efficiency</center></h2>"
   ]
  },
  {
   "cell_type": "code",
   "execution_count": 65,
   "metadata": {},
   "outputs": [
    {
     "data": {
      "text/plain": [
       "[(-973281609, 153.16718353495094),\n",
       " (-1943038625, 142.3197117729059),\n",
       " (935403028, 183.69209268352833),\n",
       " (555573573, 192.4716796394055),\n",
       " (1402881299, 54.46718011206216)]"
      ]
     },
     "execution_count": 65,
     "metadata": {},
     "output_type": "execute_result"
    }
   ],
   "source": [
    "hash_circumference = valid_triangles.map(lambda points: (hash(points), get_circumference(*points)))\n",
    "hash_circumference.take(5)"
   ]
  },
  {
   "cell_type": "code",
   "execution_count": 66,
   "metadata": {},
   "outputs": [
    {
     "data": {
      "text/plain": [
       "[(0, 153.16718353495094),\n",
       " (4, 142.3197117729059),\n",
       " (8, 183.69209268352833),\n",
       " (12, 192.4716796394055),\n",
       " (16, 54.46718011206216)]"
      ]
     },
     "execution_count": 66,
     "metadata": {},
     "output_type": "execute_result"
    }
   ],
   "source": [
    "id_circumference = triangles_zip.map(lambda index_points: (index_points[0], get_circumference(*index_points[1])))\n",
    "id_circumference.take(5)"
   ]
  },
  {
   "cell_type": "markdown",
   "metadata": {},
   "source": [
    "## Week 5: Flattening & Joining\n",
    "### Find number of neighbours of each triangle. Triangles that share at least one vertex (point) are neighbours.\n",
    "### 1) Let's flatten the points of each triangle"
   ]
  },
  {
   "cell_type": "code",
   "execution_count": 67,
   "metadata": {
    "scrolled": false
   },
   "outputs": [
    {
     "data": {
      "text/plain": [
       "[((13, 27), 0),\n",
       " ((68, 55), 0),\n",
       " ((12, 62), 0),\n",
       " ((64, 96), 4),\n",
       " ((91, 62), 4),\n",
       " ((43, 51), 4)]"
      ]
     },
     "execution_count": 67,
     "metadata": {},
     "output_type": "execute_result"
    }
   ],
   "source": [
    "flattened_point2id = triangles_zip.flatMap(lambda index_points: [(tuple(point), index_points[0]) for point in index_points[1]])\n",
    "flattened_point2id.take(6)"
   ]
  },
  {
   "cell_type": "markdown",
   "metadata": {},
   "source": [
    "### 2) Let's group by Key (point): in python that would be {point: [list of triangles sharing this point]}"
   ]
  },
  {
   "cell_type": "code",
   "execution_count": 68,
   "metadata": {},
   "outputs": [
    {
     "data": {
      "text/plain": [
       "((12, 62), {0})"
      ]
     },
     "execution_count": 68,
     "metadata": {},
     "output_type": "execute_result"
    }
   ],
   "source": [
    "point2ids = flattened_point2id.groupByKey()\\\n",
    "                        .mapValues(lambda triangles: set(triangles))\n",
    "point2ids.first()"
   ]
  },
  {
   "cell_type": "markdown",
   "metadata": {},
   "source": [
    "## Now we have point > triangle_id   and point > [list of triangle ids]\n",
    "## We need triangle_id > [list of neighbouring triangle ids]\n",
    "## 3) Join: Let's join point2ids and point2id by their common key (point)"
   ]
  },
  {
   "cell_type": "code",
   "execution_count": 78,
   "metadata": {},
   "outputs": [
    {
     "data": {
      "text/plain": [
       "((39, 11), (24, {24}))"
      ]
     },
     "execution_count": 78,
     "metadata": {},
     "output_type": "execute_result"
    }
   ],
   "source": [
    "point_id_neighbours = flattened_point2id.join(point2ids)\n",
    "point_id_neighbours.first()"
   ]
  },
  {
   "cell_type": "markdown",
   "metadata": {},
   "source": [
    "<img src=\"misc/neighbours_.PNG\" align=\"middle\" width=\"200\">"
   ]
  },
  {
   "cell_type": "markdown",
   "metadata": {},
   "source": [
    "### 4.1) Let's remove the point key, or column (stay tuned) \n",
    "### 4.2) Then let's group the RDD by key; Triangle ID\n",
    "### 4.3) When we group them then we need to take:\n",
    "### the length of <br> the set of <br> the union of <br> all neighbours' ids\n",
    "### Q. Each Triangle ID should have how many lists of neighbours' IDs?\n",
    "#### A. Generally 3, one for each vertex (point) in the triangle"
   ]
  },
  {
   "cell_type": "code",
   "execution_count": 79,
   "metadata": {},
   "outputs": [
    {
     "data": {
      "text/plain": [
       "[(24, 1), (32, 0), (56, 2), (64, 1), (776, 1)]"
      ]
     },
     "execution_count": 79,
     "metadata": {},
     "output_type": "execute_result"
    }
   ],
   "source": [
    "                                                # x: (point, (triangle_id, neighbours_ids))\n",
    "id_neighbours = point_id_neighbours.map(lambda x: x[1])\\\n",
    "                                    .groupByKey()\\\n",
    "                                    .mapValues(lambda sets: len(set.union(*sets))-1)\\\n",
    "                                    .cache()\n",
    "            # This -1 is to not count the triangle as a neighbour for itself\n",
    "id_neighbours.take(5)  # Triangle Id: number of neighbours"
   ]
  },
  {
   "cell_type": "markdown",
   "metadata": {},
   "source": [
    "## Let's join neighbours and circumferences!"
   ]
  },
  {
   "cell_type": "code",
   "execution_count": 80,
   "metadata": {},
   "outputs": [
    {
     "data": {
      "text/plain": [
       "[(1, 110.08304046060968),\n",
       " (0, 179.54209441384404),\n",
       " (2, 97.36338575368117),\n",
       " (2, 154.07888595400993),\n",
       " (0, 197.03565179454932)]"
      ]
     },
     "execution_count": 80,
     "metadata": {},
     "output_type": "execute_result"
    }
   ],
   "source": [
    "                                        # (id, (neighbour, circumference))\n",
    "neighbours_circumference = id_neighbours.join(id_circumference).map(lambda x: x[1])\n",
    "neighbours_circumference.take(5)"
   ]
  },
  {
   "cell_type": "code",
   "execution_count": 82,
   "metadata": {},
   "outputs": [],
   "source": [
    "x_num_neighbours = neighbours_circumference.map(lambda x:x[0]).take(1000)\n",
    "y_circumference = neighbours_circumference.map(lambda x:x[1]).take(1000)"
   ]
  },
  {
   "cell_type": "markdown",
   "metadata": {},
   "source": [
    "## Let's Scatter Plot it!\n",
    "### All you need to do is >  %matplotlib inline"
   ]
  },
  {
   "cell_type": "code",
   "execution_count": 83,
   "metadata": {},
   "outputs": [],
   "source": [
    "%matplotlib inline\n",
    "import matplotlib.pyplot as plt"
   ]
  },
  {
   "cell_type": "code",
   "execution_count": 84,
   "metadata": {},
   "outputs": [
    {
     "data": {
      "text/plain": [
       "<matplotlib.collections.PathCollection at 0x347b090>"
      ]
     },
     "execution_count": 84,
     "metadata": {},
     "output_type": "execute_result"
    },
    {
     "data": {
      "image/png": "[encoded data removed]",
      "text/plain": [
       "<matplotlib.figure.Figure at 0x7ced2b0>"
      ]
     },
     "metadata": {},
     "output_type": "display_data"
    }
   ],
   "source": [
    "plt.scatter(x_num_neighbours, y_circumference, alpha=0.75)"
   ]
  },
  {
   "cell_type": "code",
   "execution_count": null,
   "metadata": {},
   "outputs": [],
   "source": []
  }
 ],
 "metadata": {
  "kernelspec": {
   "display_name": "Python 3",
   "language": "python",
   "name": "python3"
  },
  "language_info": {
   "codemirror_mode": {
    "name": "ipython",
    "version": 3
   },
   "file_extension": ".py",
   "mimetype": "text/x-python",
   "name": "python",
   "nbconvert_exporter": "python",
   "pygments_lexer": "ipython3",
   "version": "3.6.3"
  }
 },
 "nbformat": 4,
 "nbformat_minor": 2
}
