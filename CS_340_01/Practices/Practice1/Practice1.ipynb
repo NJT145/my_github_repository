{
 "cells": [
  {
   "cell_type": "markdown",
   "metadata": {},
   "source": [
    "## Lambda as an expression"
   ]
  },
  {
   "cell_type": "markdown",
   "metadata": {
    "collapsed": true
   },
   "source": [
    "```py\n",
    "Epression is a line of code that returns a value.\n",
    ">>>3  ## values are expressions\n",
    "3\n",
    ">>>3**3 ## operations are expressions\n",
    "27\n",
    ">>> max([1,77,33,2]) ## functions are expressions\n",
    "77\n",
    ">>>2 in [3, 5, 7, 2, 0] ## in operator is an expression\n",
    "True\n",
    ">>>lambda x: x**2 ## lambda is an expression\n",
    "<function <lambda> at 0x10b192320>\n",
    ">>>a = 33 ## assignment is not an expression so no output returned\n",
    ">>>\n",
    "```"
   ]
  },
  {
   "cell_type": "code",
   "execution_count": 4,
   "metadata": {
    "collapsed": true
   },
   "outputs": [],
   "source": [
    "# we can assign an expression to a variable\n",
    "square = lambda x: x**2"
   ]
  },
  {
   "cell_type": "code",
   "execution_count": null,
   "metadata": {
    "collapsed": false
   },
   "outputs": [],
   "source": [
    "type(square)"
   ]
  },
  {
   "cell_type": "code",
   "execution_count": null,
   "metadata": {
    "collapsed": false
   },
   "outputs": [],
   "source": [
    "# lets run this function\n",
    "square(5)"
   ]
  },
  {
   "cell_type": "code",
   "execution_count": null,
   "metadata": {
    "collapsed": false
   },
   "outputs": [],
   "source": [
    "# create another function\n",
    "add = lambda x,y: x+y"
   ]
  },
  {
   "cell_type": "code",
   "execution_count": null,
   "metadata": {
    "collapsed": false
   },
   "outputs": [],
   "source": [
    "add(4,5)"
   ]
  },
  {
   "cell_type": "markdown",
   "metadata": {},
   "source": [
    "# MAP\n",
    "$$f(x)=x^2$$\n",
    "<img src=\"http://image.prntscr.com/image/5cc8480fc4424b6ab96b93ae0a5bb7cf.png\">"
   ]
  },
  {
   "cell_type": "code",
   "execution_count": 2,
   "metadata": {
    "collapsed": true
   },
   "outputs": [],
   "source": [
    "my_list = [1, 11, 3, 5, 2, 33, 4, 10, 23, 6, 24, 8, 7, 9, 13]"
   ]
  },
  {
   "cell_type": "code",
   "execution_count": 5,
   "metadata": {
    "collapsed": false
   },
   "outputs": [
    {
     "name": "stdout",
     "output_type": "stream",
     "text": [
      "[1, 121, 9, 25, 4, 1089, 16, 100, 529, 36, 576, 64, 49, 81, 169]\n",
      "[1, 121, 9, 25, 4, 1089, 16, 100, 529, 36, 576, 64, 49, 81, 169]\n"
     ]
    }
   ],
   "source": [
    "print map(lambda x: x**2, my_list) ## either use lambda\n",
    "print map(square, my_list) ## or use function"
   ]
  },
  {
   "cell_type": "markdown",
   "metadata": {},
   "source": [
    "### Lets define our own map function"
   ]
  },
  {
   "cell_type": "code",
   "execution_count": 6,
   "metadata": {
    "collapsed": false
   },
   "outputs": [],
   "source": [
    "def my_map(func, lis):\n",
    "    my_lis = []\n",
    "    for el in lis:\n",
    "        my_lis.append(func(el))\n",
    "    return my_lis"
   ]
  },
  {
   "cell_type": "code",
   "execution_count": 7,
   "metadata": {
    "collapsed": false
   },
   "outputs": [
    {
     "name": "stdout",
     "output_type": "stream",
     "text": [
      "[1, 121, 9, 25, 4, 1089, 16, 100, 529, 36, 576, 64, 49, 81, 169]\n",
      "[1, 121, 9, 25, 4, 1089, 16, 100, 529, 36, 576, 64, 49, 81, 169]\n"
     ]
    }
   ],
   "source": [
    "print my_map(lambda x: x**2, my_list) # my_map gives same\n",
    "print map(lambda x: x**2, my_list)    # result as map"
   ]
  },
  {
   "cell_type": "markdown",
   "metadata": {},
   "source": [
    "# FILTER\n",
    "<img src=\"http://image.prntscr.com/image/24fb66f5a0ff4b459aa737c7786e167a.png\" alt=\"Drawing\" style=\"width: 400px;\"/>"
   ]
  },
  {
   "cell_type": "code",
   "execution_count": 8,
   "metadata": {
    "collapsed": false
   },
   "outputs": [
    {
     "data": {
      "text/plain": [
       "[2, 4, 10, 6, 24, 8]"
      ]
     },
     "execution_count": 8,
     "metadata": {},
     "output_type": "execute_result"
    }
   ],
   "source": [
    "filter(lambda x: x%2==0, my_list)"
   ]
  },
  {
   "cell_type": "markdown",
   "metadata": {},
   "source": [
    "### Lets define our own filter function"
   ]
  },
  {
   "cell_type": "code",
   "execution_count": 9,
   "metadata": {
    "collapsed": true
   },
   "outputs": [],
   "source": [
    "def my_filter(func, lis):\n",
    "    my_lis = []\n",
    "    for el in lis:\n",
    "        if func(el):\n",
    "            my_lis.append(el)\n",
    "    return my_lis"
   ]
  },
  {
   "cell_type": "code",
   "execution_count": 10,
   "metadata": {
    "collapsed": false
   },
   "outputs": [
    {
     "name": "stdout",
     "output_type": "stream",
     "text": [
      "[2, 4, 10, 6, 24, 8]\n",
      "[2, 4, 10, 6, 24, 8]\n"
     ]
    }
   ],
   "source": [
    "print my_filter(lambda x: x%2==0, my_list)\n",
    "print filter(lambda x: x%2==0, my_list)"
   ]
  },
  {
   "cell_type": "markdown",
   "metadata": {},
   "source": [
    "# REDUCE\n",
    "<img src=\"http://image.prntscr.com/image/88dcfd647f984a77a3a6f37806d7fc64.png\" alt=\"Drawing\" style=\"width: 250px;\"/>"
   ]
  },
  {
   "cell_type": "code",
   "execution_count": 11,
   "metadata": {
    "collapsed": false
   },
   "outputs": [
    {
     "data": {
      "text/plain": [
       "159"
      ]
     },
     "execution_count": 11,
     "metadata": {},
     "output_type": "execute_result"
    }
   ],
   "source": [
    "reduce(lambda x,y : x+y, my_list)"
   ]
  },
  {
   "cell_type": "code",
   "execution_count": 12,
   "metadata": {
    "collapsed": false
   },
   "outputs": [
    {
     "data": {
      "text/plain": [
       "159"
      ]
     },
     "execution_count": 12,
     "metadata": {},
     "output_type": "execute_result"
    }
   ],
   "source": [
    "sum(my_list)"
   ]
  },
  {
   "cell_type": "markdown",
   "metadata": {},
   "source": [
    "### Lets define our own reduce function"
   ]
  },
  {
   "cell_type": "code",
   "execution_count": 18,
   "metadata": {
    "collapsed": false
   },
   "outputs": [],
   "source": [
    "def my_reduce(func, lis):\n",
    "    my_lis = lis[:]\n",
    "    for index in range(len(lis)-1):\n",
    "        my_lis[index+1] = func(my_lis[index] ,my_lis[index+1])\n",
    "    return my_lis"
   ]
  },
  {
   "cell_type": "code",
   "execution_count": 19,
   "metadata": {
    "collapsed": false
   },
   "outputs": [
    {
     "name": "stdout",
     "output_type": "stream",
     "text": [
      "[1, 12, 15, 20, 22, 55, 59, 69, 92, 98, 122, 130, 137, 146, 159]\n",
      "159\n"
     ]
    }
   ],
   "source": [
    "print my_reduce(lambda x,y : x+y, my_list)\n",
    "print reduce(lambda x,y : x+y, my_list)"
   ]
  },
  {
   "cell_type": "markdown",
   "metadata": {},
   "source": [
    "# SPARK"
   ]
  },
  {
   "cell_type": "code",
   "execution_count": 20,
   "metadata": {
    "collapsed": false
   },
   "outputs": [],
   "source": [
    "# convert my_list to spark's own data type (rdd)\n",
    "data = sc.parallelize(my_list)\n",
    "\n",
    "# square => filter even numbers => total"
   ]
  },
  {
   "cell_type": "code",
   "execution_count": 24,
   "metadata": {
    "collapsed": false
   },
   "outputs": [
    {
     "data": {
      "text/plain": [
       "796"
      ]
     },
     "execution_count": 24,
     "metadata": {},
     "output_type": "execute_result"
    }
   ],
   "source": [
    "# spark version\n",
    "data.map(lambda x: x**2)\\\n",
    "        .filter(lambda x: x%2==0)\\\n",
    "        .reduce(lambda x,y: x+y)"
   ]
  },
  {
   "cell_type": "code",
   "execution_count": null,
   "metadata": {
    "collapsed": false
   },
   "outputs": [],
   "source": [
    "## python version by using my_list variable\n"
   ]
  },
  {
   "cell_type": "code",
   "execution_count": null,
   "metadata": {
    "collapsed": true
   },
   "outputs": [],
   "source": []
  },
  {
   "cell_type": "code",
   "execution_count": null,
   "metadata": {
    "collapsed": false
   },
   "outputs": [],
   "source": []
  },
  {
   "cell_type": "code",
   "execution_count": null,
   "metadata": {
    "collapsed": false
   },
   "outputs": [],
   "source": []
  },
  {
   "cell_type": "code",
   "execution_count": null,
   "metadata": {
    "collapsed": false
   },
   "outputs": [],
   "source": []
  },
  {
   "cell_type": "code",
   "execution_count": null,
   "metadata": {
    "collapsed": true
   },
   "outputs": [],
   "source": []
  }
 ],
 "metadata": {
  "kernelspec": {
   "display_name": "Python 2 with Spark 1.6",
   "language": "python",
   "name": "python2"
  },
  "language_info": {
   "codemirror_mode": {
    "name": "ipython",
    "version": 2
   },
   "file_extension": ".py",
   "mimetype": "text/x-python",
   "name": "python",
   "nbconvert_exporter": "python",
   "pygments_lexer": "ipython2",
   "version": "2.7.11"
  }
 },
 "nbformat": 4,
 "nbformat_minor": 0
}